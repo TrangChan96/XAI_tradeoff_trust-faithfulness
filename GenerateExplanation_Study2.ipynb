{
 "cells": [
  {
   "cell_type": "code",
   "execution_count": 1,
   "id": "1e119631",
   "metadata": {},
   "outputs": [
    {
     "name": "stderr",
     "output_type": "stream",
     "text": [
      "C:\\Users\\thait\\anaconda3\\envs\\thesis\\lib\\site-packages\\tqdm\\auto.py:22: TqdmWarning: IProgress not found. Please update jupyter and ipywidgets. See https://ipywidgets.readthedocs.io/en/stable/user_install.html\n",
      "  from .autonotebook import tqdm as notebook_tqdm\n"
     ]
    }
   ],
   "source": [
    "import numpy as np # linear algebra\n",
    "import pandas as pd # data processing, CSV file I/O (e.g. pd.read_csv)\n",
    "import os\n",
    "import matplotlib.pyplot as plt\n",
    "from sklearn.model_selection import train_test_split\n",
    "from lightgbm import plot_importance\n",
    "import shap\n",
    "import lime\n",
    "import lightgbm as lgb\n",
    "from sklearn.ensemble import GradientBoostingClassifier\n",
    "import json\n",
    "import pickle\n",
    "from utils.utils import *\n",
    "import scipy"
   ]
  },
  {
   "cell_type": "code",
   "execution_count": 2,
   "id": "99bc1a2f",
   "metadata": {},
   "outputs": [
    {
     "data": {
      "text/html": [
       "<div>\n",
       "<style scoped>\n",
       "    .dataframe tbody tr th:only-of-type {\n",
       "        vertical-align: middle;\n",
       "    }\n",
       "\n",
       "    .dataframe tbody tr th {\n",
       "        vertical-align: top;\n",
       "    }\n",
       "\n",
       "    .dataframe thead th {\n",
       "        text-align: right;\n",
       "    }\n",
       "</style>\n",
       "<table border=\"1\" class=\"dataframe\">\n",
       "  <thead>\n",
       "    <tr style=\"text-align: right;\">\n",
       "      <th></th>\n",
       "      <th>name</th>\n",
       "      <th>sex</th>\n",
       "      <th>age_cat</th>\n",
       "      <th>race</th>\n",
       "      <th>juv_fel_count</th>\n",
       "      <th>decile_score</th>\n",
       "      <th>juv_misd_count</th>\n",
       "      <th>juv_other_count</th>\n",
       "      <th>priors_count</th>\n",
       "      <th>days_b_screening_arrest</th>\n",
       "      <th>is_recid</th>\n",
       "      <th>r_charge_degree</th>\n",
       "      <th>is_violent_recid</th>\n",
       "      <th>vr_charge_degree</th>\n",
       "      <th>score_text</th>\n",
       "      <th>v_decile_score</th>\n",
       "      <th>v_score_text</th>\n",
       "      <th>event</th>\n",
       "    </tr>\n",
       "  </thead>\n",
       "  <tbody>\n",
       "    <tr>\n",
       "      <th>3</th>\n",
       "      <td>kevon dixon</td>\n",
       "      <td>0</td>\n",
       "      <td>0</td>\n",
       "      <td>0</td>\n",
       "      <td>0</td>\n",
       "      <td>3</td>\n",
       "      <td>0</td>\n",
       "      <td>0</td>\n",
       "      <td>0</td>\n",
       "      <td>-1.0</td>\n",
       "      <td>1</td>\n",
       "      <td>7</td>\n",
       "      <td>1</td>\n",
       "      <td>7</td>\n",
       "      <td>0</td>\n",
       "      <td>1</td>\n",
       "      <td>0</td>\n",
       "      <td>1</td>\n",
       "    </tr>\n",
       "    <tr>\n",
       "      <th>4</th>\n",
       "      <td>ed philo</td>\n",
       "      <td>0</td>\n",
       "      <td>1</td>\n",
       "      <td>0</td>\n",
       "      <td>0</td>\n",
       "      <td>4</td>\n",
       "      <td>0</td>\n",
       "      <td>1</td>\n",
       "      <td>4</td>\n",
       "      <td>-1.0</td>\n",
       "      <td>1</td>\n",
       "      <td>3</td>\n",
       "      <td>0</td>\n",
       "      <td>0</td>\n",
       "      <td>0</td>\n",
       "      <td>3</td>\n",
       "      <td>0</td>\n",
       "      <td>0</td>\n",
       "    </tr>\n",
       "    <tr>\n",
       "      <th>5</th>\n",
       "      <td>ed philo</td>\n",
       "      <td>0</td>\n",
       "      <td>1</td>\n",
       "      <td>0</td>\n",
       "      <td>0</td>\n",
       "      <td>4</td>\n",
       "      <td>0</td>\n",
       "      <td>1</td>\n",
       "      <td>4</td>\n",
       "      <td>-1.0</td>\n",
       "      <td>1</td>\n",
       "      <td>3</td>\n",
       "      <td>0</td>\n",
       "      <td>0</td>\n",
       "      <td>0</td>\n",
       "      <td>3</td>\n",
       "      <td>0</td>\n",
       "      <td>0</td>\n",
       "    </tr>\n",
       "    <tr>\n",
       "      <th>6</th>\n",
       "      <td>ed philo</td>\n",
       "      <td>0</td>\n",
       "      <td>1</td>\n",
       "      <td>0</td>\n",
       "      <td>0</td>\n",
       "      <td>4</td>\n",
       "      <td>0</td>\n",
       "      <td>1</td>\n",
       "      <td>4</td>\n",
       "      <td>-1.0</td>\n",
       "      <td>1</td>\n",
       "      <td>3</td>\n",
       "      <td>0</td>\n",
       "      <td>0</td>\n",
       "      <td>0</td>\n",
       "      <td>3</td>\n",
       "      <td>0</td>\n",
       "      <td>0</td>\n",
       "    </tr>\n",
       "    <tr>\n",
       "      <th>7</th>\n",
       "      <td>ed philo</td>\n",
       "      <td>0</td>\n",
       "      <td>1</td>\n",
       "      <td>0</td>\n",
       "      <td>0</td>\n",
       "      <td>4</td>\n",
       "      <td>0</td>\n",
       "      <td>1</td>\n",
       "      <td>4</td>\n",
       "      <td>-1.0</td>\n",
       "      <td>1</td>\n",
       "      <td>3</td>\n",
       "      <td>0</td>\n",
       "      <td>0</td>\n",
       "      <td>0</td>\n",
       "      <td>3</td>\n",
       "      <td>0</td>\n",
       "      <td>0</td>\n",
       "    </tr>\n",
       "    <tr>\n",
       "      <th>...</th>\n",
       "      <td>...</td>\n",
       "      <td>...</td>\n",
       "      <td>...</td>\n",
       "      <td>...</td>\n",
       "      <td>...</td>\n",
       "      <td>...</td>\n",
       "      <td>...</td>\n",
       "      <td>...</td>\n",
       "      <td>...</td>\n",
       "      <td>...</td>\n",
       "      <td>...</td>\n",
       "      <td>...</td>\n",
       "      <td>...</td>\n",
       "      <td>...</td>\n",
       "      <td>...</td>\n",
       "      <td>...</td>\n",
       "      <td>...</td>\n",
       "      <td>...</td>\n",
       "    </tr>\n",
       "    <tr>\n",
       "      <th>18310</th>\n",
       "      <td>malcolm simmons</td>\n",
       "      <td>0</td>\n",
       "      <td>1</td>\n",
       "      <td>0</td>\n",
       "      <td>0</td>\n",
       "      <td>3</td>\n",
       "      <td>0</td>\n",
       "      <td>0</td>\n",
       "      <td>0</td>\n",
       "      <td>-1.0</td>\n",
       "      <td>0</td>\n",
       "      <td>0</td>\n",
       "      <td>0</td>\n",
       "      <td>0</td>\n",
       "      <td>0</td>\n",
       "      <td>5</td>\n",
       "      <td>2</td>\n",
       "      <td>0</td>\n",
       "    </tr>\n",
       "    <tr>\n",
       "      <th>18311</th>\n",
       "      <td>alexsandra beauchamps</td>\n",
       "      <td>1</td>\n",
       "      <td>0</td>\n",
       "      <td>0</td>\n",
       "      <td>0</td>\n",
       "      <td>6</td>\n",
       "      <td>0</td>\n",
       "      <td>0</td>\n",
       "      <td>5</td>\n",
       "      <td>-1.0</td>\n",
       "      <td>0</td>\n",
       "      <td>0</td>\n",
       "      <td>0</td>\n",
       "      <td>0</td>\n",
       "      <td>2</td>\n",
       "      <td>4</td>\n",
       "      <td>0</td>\n",
       "      <td>0</td>\n",
       "    </tr>\n",
       "    <tr>\n",
       "      <th>18313</th>\n",
       "      <td>farrah jean</td>\n",
       "      <td>1</td>\n",
       "      <td>0</td>\n",
       "      <td>0</td>\n",
       "      <td>0</td>\n",
       "      <td>2</td>\n",
       "      <td>0</td>\n",
       "      <td>0</td>\n",
       "      <td>3</td>\n",
       "      <td>-1.0</td>\n",
       "      <td>0</td>\n",
       "      <td>0</td>\n",
       "      <td>0</td>\n",
       "      <td>0</td>\n",
       "      <td>0</td>\n",
       "      <td>2</td>\n",
       "      <td>0</td>\n",
       "      <td>0</td>\n",
       "    </tr>\n",
       "    <tr>\n",
       "      <th>18314</th>\n",
       "      <td>florencia sanmartin</td>\n",
       "      <td>1</td>\n",
       "      <td>1</td>\n",
       "      <td>2</td>\n",
       "      <td>0</td>\n",
       "      <td>4</td>\n",
       "      <td>0</td>\n",
       "      <td>0</td>\n",
       "      <td>2</td>\n",
       "      <td>-2.0</td>\n",
       "      <td>1</td>\n",
       "      <td>2</td>\n",
       "      <td>0</td>\n",
       "      <td>0</td>\n",
       "      <td>0</td>\n",
       "      <td>4</td>\n",
       "      <td>0</td>\n",
       "      <td>0</td>\n",
       "    </tr>\n",
       "    <tr>\n",
       "      <th>18315</th>\n",
       "      <td>florencia sanmartin</td>\n",
       "      <td>1</td>\n",
       "      <td>1</td>\n",
       "      <td>2</td>\n",
       "      <td>0</td>\n",
       "      <td>4</td>\n",
       "      <td>0</td>\n",
       "      <td>0</td>\n",
       "      <td>2</td>\n",
       "      <td>-2.0</td>\n",
       "      <td>1</td>\n",
       "      <td>2</td>\n",
       "      <td>0</td>\n",
       "      <td>0</td>\n",
       "      <td>0</td>\n",
       "      <td>4</td>\n",
       "      <td>0</td>\n",
       "      <td>0</td>\n",
       "    </tr>\n",
       "  </tbody>\n",
       "</table>\n",
       "<p>16655 rows × 18 columns</p>\n",
       "</div>"
      ],
      "text/plain": [
       "                        name  sex  age_cat  race  juv_fel_count  decile_score  \\\n",
       "3                kevon dixon    0        0     0              0             3   \n",
       "4                   ed philo    0        1     0              0             4   \n",
       "5                   ed philo    0        1     0              0             4   \n",
       "6                   ed philo    0        1     0              0             4   \n",
       "7                   ed philo    0        1     0              0             4   \n",
       "...                      ...  ...      ...   ...            ...           ...   \n",
       "18310        malcolm simmons    0        1     0              0             3   \n",
       "18311  alexsandra beauchamps    1        0     0              0             6   \n",
       "18313            farrah jean    1        0     0              0             2   \n",
       "18314    florencia sanmartin    1        1     2              0             4   \n",
       "18315    florencia sanmartin    1        1     2              0             4   \n",
       "\n",
       "       juv_misd_count  juv_other_count  priors_count  days_b_screening_arrest  \\\n",
       "3                   0                0             0                     -1.0   \n",
       "4                   0                1             4                     -1.0   \n",
       "5                   0                1             4                     -1.0   \n",
       "6                   0                1             4                     -1.0   \n",
       "7                   0                1             4                     -1.0   \n",
       "...               ...              ...           ...                      ...   \n",
       "18310               0                0             0                     -1.0   \n",
       "18311               0                0             5                     -1.0   \n",
       "18313               0                0             3                     -1.0   \n",
       "18314               0                0             2                     -2.0   \n",
       "18315               0                0             2                     -2.0   \n",
       "\n",
       "       is_recid  r_charge_degree  is_violent_recid  vr_charge_degree  \\\n",
       "3             1                7                 1                 7   \n",
       "4             1                3                 0                 0   \n",
       "5             1                3                 0                 0   \n",
       "6             1                3                 0                 0   \n",
       "7             1                3                 0                 0   \n",
       "...         ...              ...               ...               ...   \n",
       "18310         0                0                 0                 0   \n",
       "18311         0                0                 0                 0   \n",
       "18313         0                0                 0                 0   \n",
       "18314         1                2                 0                 0   \n",
       "18315         1                2                 0                 0   \n",
       "\n",
       "       score_text  v_decile_score  v_score_text  event  \n",
       "3               0               1             0      1  \n",
       "4               0               3             0      0  \n",
       "5               0               3             0      0  \n",
       "6               0               3             0      0  \n",
       "7               0               3             0      0  \n",
       "...           ...             ...           ...    ...  \n",
       "18310           0               5             2      0  \n",
       "18311           2               4             0      0  \n",
       "18313           0               2             0      0  \n",
       "18314           0               4             0      0  \n",
       "18315           0               4             0      0  \n",
       "\n",
       "[16655 rows x 18 columns]"
      ]
     },
     "execution_count": 2,
     "metadata": {},
     "output_type": "execute_result"
    }
   ],
   "source": [
    "df = pd.read_csv(\"./data/compas/preprocessed.csv\", index_col=0)\n",
    "# df = df.drop_duplicates(subset=df.columns.tolist()[1:], keep='first')\n",
    "df"
   ]
  },
  {
   "cell_type": "code",
   "execution_count": 3,
   "id": "06cec7e8",
   "metadata": {},
   "outputs": [
    {
     "name": "stdout",
     "output_type": "stream",
     "text": [
      "0.08273791654157911 0.10417292104473132 0.1332933053137196 4.186670669468628\n"
     ]
    }
   ],
   "source": [
    "mean_fel = df['juv_fel_count'].mean()\n",
    "mean_misd = df['juv_misd_count'].mean()\n",
    "mean_other = df['juv_other_count'].mean()\n",
    "mean_priors = df['priors_count'].mean()\n",
    "print(mean_fel, mean_misd, mean_other, mean_priors)"
   ]
  },
  {
   "cell_type": "code",
   "execution_count": null,
   "id": "5d7b9301",
   "metadata": {},
   "outputs": [],
   "source": []
  },
  {
   "cell_type": "code",
   "execution_count": 4,
   "id": "864d7093",
   "metadata": {},
   "outputs": [],
   "source": [
    "data = df.drop([\"event\", \"is_recid\"], axis=1)\n",
    "y = df[\"is_recid\"]\n",
    "X_train1_temp, X_test1_temp, y_train, y_test = train_test_split(data, y, test_size=0.25, \n",
    "                                                                shuffle=True, stratify=y, \n",
    "                                                                random_state=2)"
   ]
  },
  {
   "cell_type": "code",
   "execution_count": 5,
   "id": "7f3320ff",
   "metadata": {},
   "outputs": [
    {
     "name": "stdout",
     "output_type": "stream",
     "text": [
      "['days_b_screening_arrest', 'r_charge_degree', 'is_violent_recid', 'vr_charge_degree', 'score_text', 'v_score_text']\n"
     ]
    }
   ],
   "source": [
    "cols = data.columns.tolist()\n",
    "feature_columns = ['name', 'priors_count', 'v_decile_score', 'decile_score',\n",
    "                   'juv_fel_count', 'juv_misd_count', 'juv_other_count', \n",
    "                   'sex', 'age_cat', 'race'] \n",
    "        \n",
    "delete_cols = []\n",
    "for col in cols:\n",
    "    if col not in feature_columns:\n",
    "        delete_cols.append(col)\n",
    "\n",
    "print(delete_cols)"
   ]
  },
  {
   "cell_type": "code",
   "execution_count": 6,
   "id": "7b1d58f0",
   "metadata": {},
   "outputs": [],
   "source": [
    "X_train1 = X_train1_temp.drop(delete_cols, axis=1)\n",
    "X_test1 = X_test1_temp.drop(delete_cols, axis=1)\n",
    "X_train, X_test = X_train1.drop([\"name\"], axis=1), X_test1.drop([\"name\"], axis=1)"
   ]
  },
  {
   "cell_type": "code",
   "execution_count": 7,
   "id": "b96736e6",
   "metadata": {},
   "outputs": [
    {
     "name": "stdout",
     "output_type": "stream",
     "text": [
      "Index(['sex', 'age_cat', 'race', 'juv_fel_count', 'decile_score',\n",
      "       'juv_misd_count', 'juv_other_count', 'priors_count', 'v_decile_score'],\n",
      "      dtype='object')\n"
     ]
    }
   ],
   "source": [
    "print(X_test.columns)\n",
    "feature_names = ['sex', 'age category', 'race', 'juvenile felony count', 'recidivism decile score', \n",
    "                 'juvenile misdemeanor count', 'juvenile other count', 'priors count', \n",
    "                 'violence decile score']"
   ]
  },
  {
   "cell_type": "code",
   "execution_count": 8,
   "id": "424ac973",
   "metadata": {},
   "outputs": [
    {
     "name": "stdout",
     "output_type": "stream",
     "text": [
      "{'sex': {'0': 'Male', '1': 'Female'}, 'age_cat': {'0': '25 - 45', '1': 'Less than 25', '2': 'Greater than 45'}, 'race': {'0': 'African-American', '1': 'Caucasian', '2': 'Hispanic', '3': 'Asian', '4': 'Native American'}, 'score_text': {'0': 'Low', '1': 'High', '2': 'Medium'}, 'v_score_text': {'0': 'Low', '1': 'High', '2': 'Medium'}, 'names': {'sex': 'sex', 'age_cat': 'age category', 'race': 'race', 'juv_fel_count': 'juvenile felony count', 'juv_misd_count': 'juvenile misdemeanor count', 'juv_other_count': 'juvenile other count', 'priors_count': 'priors count', 'decile_score': 'recidivism decile score', 'v_decile_score': 'violent decile score'}}\n"
     ]
    }
   ],
   "source": [
    "params = load_dict('./data/compas/parameter.json')\n",
    "print(params)"
   ]
  },
  {
   "cell_type": "markdown",
   "id": "0d2bef46",
   "metadata": {},
   "source": [
    "# ------------------------------------------------------------------------------------------"
   ]
  },
  {
   "cell_type": "code",
   "execution_count": 9,
   "id": "e7eef5cb",
   "metadata": {},
   "outputs": [],
   "source": [
    "# gbtree_d = GradientBoostingClassifier(learning_rate=0.10, n_estimators=116, max_depth=3, subsample=0.74)\n",
    "# gbtree_d.fit(X_train.values, y_train.values)\n",
    "# gbtree_d.score(X_test.values, y_test.values)"
   ]
  },
  {
   "cell_type": "code",
   "execution_count": 10,
   "id": "13a5c8d2",
   "metadata": {},
   "outputs": [
    {
     "data": {
      "text/plain": [
       "0.6671469740634006"
      ]
     },
     "execution_count": 10,
     "metadata": {},
     "output_type": "execute_result"
    }
   ],
   "source": [
    "# # save model\n",
    "# pickle.dump(gbtree_d, open(\"./model/unbiased_model.pickle.dat\", \"wb\"))\n",
    "gbtree_d = pickle.load(open(\"./model/Model-Desired.pickle.dat\", \"rb\"))\n",
    "gbtree_d.score(X_test.values, y_test.values)"
   ]
  },
  {
   "cell_type": "code",
   "execution_count": 11,
   "id": "65510524",
   "metadata": {},
   "outputs": [],
   "source": [
    "# explainer_d = shap.Explainer(gbtree_d)\n",
    "# shap_values_d = explainer_d(X_test.values)\n",
    "# shap.summary_plot(shap_values_d.values, X_test.values, \n",
    "#                   feature_names=feature_names, plot_type=\"dot\", show=True)\n",
    "# # plt.savefig(\"./model/explanation/SHAP/global_explanation_beeswarm_desired.pdf\", bbox_inches='tight')\n",
    "# # plt.savefig(\"./model/explanation/SHAP/global_explanation_beeswarm_desired.png\")#, bbox_inches='tight')\n",
    "# plt.clf()"
   ]
  },
  {
   "cell_type": "code",
   "execution_count": 12,
   "id": "5543c569",
   "metadata": {},
   "outputs": [],
   "source": [
    "# noise = np.random.normal(10, 15, X_train.values.shape)\n",
    "# noise[:, :3] = 0\n",
    "# # print(noise)\n",
    "# # X_train#.values#[0] + noise[0]"
   ]
  },
  {
   "cell_type": "code",
   "execution_count": 13,
   "id": "4245c2db",
   "metadata": {},
   "outputs": [],
   "source": [
    "# gbtree_p = GradientBoostingClassifier(learning_rate=0.10, n_estimators=116, max_depth=3, subsample=0.74)\n",
    "# gbtree_p.fit(X_train.values + noise, y_train.values)\n",
    "# gbtree_p.score(X_test.values, y_test.values)"
   ]
  },
  {
   "cell_type": "code",
   "execution_count": 14,
   "id": "a2255aff",
   "metadata": {},
   "outputs": [
    {
     "data": {
      "text/plain": [
       "0.5823727185398655"
      ]
     },
     "execution_count": 14,
     "metadata": {},
     "output_type": "execute_result"
    }
   ],
   "source": [
    "# save model\n",
    "# pickle.dump(gbtree_p, open(\"./model/biased_model.pickle.dat\", \"wb\"))\n",
    "gbtree_p = pickle.load(open(\"./model/Model-Prohibited.pickle.dat\", \"rb\"))\n",
    "gbtree_p.score(X_test.values, y_test.values)"
   ]
  },
  {
   "cell_type": "code",
   "execution_count": 15,
   "id": "a4879b90",
   "metadata": {},
   "outputs": [],
   "source": [
    "# explainer_p = shap.Explainer(gbtree_p)\n",
    "# shap_values_p = explainer_p(X_test.values)\n",
    "# shap.summary_plot(shap_values_p.values, X_test.values, \n",
    "#                   feature_names=feature_names, plot_type=\"dot\", show=True)\n",
    "# # plt.savefig(\"./model/explanation/SHAP/global_explanation_beeswarm_prohibited.pdf\", bbox_inches='tight')\n",
    "# # plt.savefig(\"./model/explanation/SHAP/global_explanation_beeswarm_prohibited.png\")#, bbox_inches='tight')\n",
    "# plt.clf()"
   ]
  },
  {
   "cell_type": "markdown",
   "id": "c0082a1a",
   "metadata": {},
   "source": [
    "# ------------------------------------------------------------------------------------------"
   ]
  },
  {
   "cell_type": "code",
   "execution_count": 16,
   "id": "df907097",
   "metadata": {},
   "outputs": [
    {
     "data": {
      "text/plain": [
       "array([1163,  817, 1955, ..., 2514, 2707, 1653], dtype=int64)"
      ]
     },
     "execution_count": 16,
     "metadata": {},
     "output_type": "execute_result"
    }
   ],
   "source": [
    "person_ids_p = gbtree_p.predict_proba(X_test.values)[:, 0].argsort()\n",
    "person_ids_p"
   ]
  },
  {
   "cell_type": "code",
   "execution_count": 17,
   "id": "9d5ac1f3",
   "metadata": {},
   "outputs": [
    {
     "name": "stderr",
     "output_type": "stream",
     "text": [
      "100%|█████████████████████████████████████████████████████████████████████████████| 4164/4164 [00:38<00:00, 106.85it/s]\n"
     ]
    }
   ],
   "source": [
    "from tqdm import tqdm\n",
    "idxs = []\n",
    "for i in tqdm(person_ids_p):\n",
    "    pred_prohibited = gbtree_p.predict(X_test.values)[i]\n",
    "    pred_desired = gbtree_d.predict(X_test.values)[i]\n",
    "    if pred_prohibited != pred_desired:\n",
    "        idxs.append(i)"
   ]
  },
  {
   "cell_type": "code",
   "execution_count": 18,
   "id": "df5b0276",
   "metadata": {},
   "outputs": [
    {
     "name": "stdout",
     "output_type": "stream",
     "text": [
      "1269\n"
     ]
    }
   ],
   "source": [
    "print(len(idxs))"
   ]
  },
  {
   "cell_type": "code",
   "execution_count": 19,
   "id": "6ac51af1",
   "metadata": {},
   "outputs": [
    {
     "name": "stdout",
     "output_type": "stream",
     "text": [
      "race 0 (Affrican-America): 699\n",
      "race 1 (Caucasian): 463\n",
      "race 2 (Hispanic): 95\n",
      "race 3 (Asian): 5\n",
      "race 4 (Native American): 7\n"
     ]
    }
   ],
   "source": [
    "race_0 = []\n",
    "race_1 = []\n",
    "race_2 = []\n",
    "race_3 = []\n",
    "race_4 = []\n",
    "for i in idxs:\n",
    "    if X_test1.iloc[i].race == 0:\n",
    "        race_0.append(i)\n",
    "    elif X_test1.iloc[i].race == 1:\n",
    "        race_1.append(i)\n",
    "    elif X_test1.iloc[i].race == 2:\n",
    "        race_2.append(i)\n",
    "    elif X_test1.iloc[i].race == 3:\n",
    "        race_3.append(i)\n",
    "    elif X_test1.iloc[i].race == 4:\n",
    "        race_4.append(i)\n",
    "# [(0, 'African-American'), (1, 'Caucasian'), (2, 'Hispanic'), (3, 'Asian'), (4, 'Native American')]\n",
    "print(\"race 0 (Affrican-America):\", len(race_0))\n",
    "print(\"race 1 (Caucasian):\", len(race_1))\n",
    "print(\"race 2 (Hispanic):\", len(race_2))\n",
    "print(\"race 3 (Asian):\", len(race_3))\n",
    "print(\"race 4 (Native American):\", len(race_4))"
   ]
  },
  {
   "cell_type": "code",
   "execution_count": 20,
   "id": "93158d61",
   "metadata": {},
   "outputs": [],
   "source": [
    "prob_race0 = gbtree_p.predict_proba(X_test.values)[race_0]\n",
    "i_race0 = [x for _, x in sorted(zip(prob_race0[:, 0], race_0))]\n",
    "\n",
    "prob_race1 = gbtree_p.predict_proba(X_test.values)[race_1]\n",
    "i_race1 = [x for _, x in sorted(zip(prob_race1[:, 0], race_1))]\n",
    "\n",
    "prob_race2 = gbtree_p.predict_proba(X_test.values)[race_2]\n",
    "i_race2 = [x for _, x in sorted(zip(prob_race2[:, 0], race_2))]\n",
    "\n",
    "prob_race3 = gbtree_p.predict_proba(X_test.values)[race_3]\n",
    "i_race3 = [x for _, x in sorted(zip(prob_race3[:, 0], race_3))]\n",
    "\n",
    "prob_race4 = gbtree_p.predict_proba(X_test.values)[race_4]\n",
    "i_race4 = [x for _, x in sorted(zip(prob_race4[:, 0], race_4))]"
   ]
  },
  {
   "cell_type": "markdown",
   "id": "f3463c14",
   "metadata": {},
   "source": [
    "# -----------------------------------------------------------------------------------------"
   ]
  },
  {
   "cell_type": "code",
   "execution_count": 21,
   "id": "d45d1c28",
   "metadata": {},
   "outputs": [
    {
     "name": "stdout",
     "output_type": "stream",
     "text": [
      "[1340, 1921, 2242, 120, 1457, 1654, 1914] 7\n"
     ]
    }
   ],
   "source": [
    "print(i_race4, len(race_4))"
   ]
  },
  {
   "cell_type": "code",
   "execution_count": 22,
   "id": "a30904a9",
   "metadata": {},
   "outputs": [
    {
     "name": "stdout",
     "output_type": "stream",
     "text": [
      "[1266 1170 3476 2878 2116 2267 1101 1758 1686 2030 3916 3498  904 3434\n",
      " 3579 2464 2394 2024 3103 2292  152 2963 2844 1001  134 3827 1087  113\n",
      " 1624 2181 2805 2387 2662  467 3873  327 4037 1688 1420 3491 3232 2333\n",
      "  254  694 2265 2184 1520 1506  502   91 2986 2269  158 2227 1502  998\n",
      " 1882 2020 3084 1754 3530 3560 1514 2880 2370 2105 2183  716 1696 2505\n",
      " 1080  744 2927 1741  344  724  260 1549 2335 1300 3751 1927 2070 3394\n",
      " 2716 2571 1371 3668 1711  747 2929 1026  449 2219 4109  218 1278 2951\n",
      " 1878 2136 3182 3438 3798  874 2576 1485 1236 3160 3379 2166 1214 4050\n",
      " 1106 2801 2192 3779 3809 2800 3109 2861 1329   48 3343 3957 1252  985\n",
      " 2562 2917  951 2390 1994 1691 2886 3585 1161 1594   26 1145 2600 3501\n",
      "  823 2355  642  494  903 1271 2714 2472 3601 1518 1137  422 1023  691\n",
      " 1125 1127 1169 3656  718 1622  510  908 1729  538  328 3666 1587  557\n",
      "  486 3612 1173  573 3344 3213  890  156   64 2397 1630 3133 4084  160\n",
      " 1072 2211  715   47 1093  938 2323 2683 2594 2975  614 1021  987  775\n",
      " 2029 2967 2548  266]\n"
     ]
    }
   ],
   "source": [
    "np.random.seed(2)\n",
    "\n",
    "# rand_ids = np.concatenate((np.random.choice(i_race0, size=40), np.random.choice(i_race1, size=20)))\n",
    "# print(rand_ids)\n",
    "rand_race0 = np.random.choice(i_race0, size=200, replace=False)\n",
    "print(rand_race0)\n",
    "rand_race1 = np.random.choice(i_race1, size=200, replace=False)\n",
    "rand_race2 = np.random.choice(i_race2, size=len(race_2), replace=False)\n",
    "rand_race3 = np.random.choice(i_race3, size=len(race_3), replace=False)\n",
    "rand_race4 = np.random.choice(i_race4, size=len(race_4), replace=False)\n",
    "path = './model/explanation/get_prediction'\n",
    "features = ['desired_features', 'prohibited_features']\n",
    "plot_types = ['bar']\n",
    "races = [rand_race0, rand_race1, rand_race2, rand_race3, rand_race4]"
   ]
  },
  {
   "cell_type": "code",
   "execution_count": 23,
   "id": "5f9d9a1f",
   "metadata": {},
   "outputs": [],
   "source": [
    "# print(X_test.iloc[1266])\n",
    "# print(y_test.iloc[1266])\n",
    "# print(gbtree_d.predict(X_test.values)[1266])"
   ]
  },
  {
   "cell_type": "code",
   "execution_count": 24,
   "id": "6c620552",
   "metadata": {},
   "outputs": [],
   "source": [
    "# print(X_test.loc[9126])\n",
    "# print(y_test.loc[9126])\n",
    "# print(gbtree_d.predict(X_test.values)[1266])"
   ]
  },
  {
   "cell_type": "code",
   "execution_count": 25,
   "id": "541da3d3",
   "metadata": {},
   "outputs": [],
   "source": [
    "# for plot_type in plot_types:\n",
    "#     for feature in features: \n",
    "#         sv_list = []\n",
    "#         for i, race in enumerate(races):\n",
    "#             save_path = os.path.join(path, feature, f\"{i}\")\n",
    "#             os.makedirs(save_path, exist_ok=True)\n",
    "#             for idx in tqdm(race):\n",
    "#                 if feature == 'desired_features':\n",
    "#                     tree = gbtree_d\n",
    "#                 else:\n",
    "#                     tree = gbtree_p\n",
    "#                 pred = tree.predict(X_test.values)\n",
    "#                 name = f\"{X_test.iloc[idx].name}_{pred[idx]}\"\n",
    "#                 sv = get_shap_explanation(tree, X_test, params, idx)\n",
    "#                 if any(obj.data == sv.data for obj in sv_list):\n",
    "#                     continue\n",
    "#                 else:\n",
    "#                     sv_list.append(sv)\n",
    "                    \n",
    "#                     plot_shap_explanation(sv, plot_type=plot_type, save=True, save_path=save_path, save_name=name)\n",
    "#                     plot_shap_explanation(sv, plot_type=plot_type, save=True, save_path=save_path, save_name=name,\n",
    "#                                          file_type=\"png\")"
   ]
  },
  {
   "cell_type": "code",
   "execution_count": null,
   "id": "0c4882b9",
   "metadata": {},
   "outputs": [],
   "source": []
  },
  {
   "cell_type": "code",
   "execution_count": 26,
   "id": "6302b329",
   "metadata": {},
   "outputs": [],
   "source": [
    "# select_idxs = [87,125,147,449,566,608,658,660,686,1286,1442,1584,1725,1794,1819,1828,2023,2207,2309,2966,3159,3789,\n",
    "#                3808,4180,4630,4744,4748,4799,5118,5183,5226,5238,5368,5705,5941,6031,6692,7865,10062,10335,11937,\n",
    "#                13285,13460,14149,16772,16947,17276,17313,17491,17760]\n",
    "# print(len(select_idxs))\n",
    "# path = './model/explanation/get_prediction'\n",
    "# for plot_type in plot_types:\n",
    "#     for feature in features: \n",
    "#         sv_list = []\n",
    "#         for i, race in enumerate(races):\n",
    "#             save_path = os.path.join(path, feature, f\"{i}\")\n",
    "#             os.makedirs(save_path, exist_ok=True)\n",
    "#             for idx in tqdm(race):\n",
    "#                 if X_test.iloc[idx].name not in select_idxs:\n",
    "#                     continue\n",
    "#                 if feature == 'desired_features':\n",
    "#                     tree = gbtree_d\n",
    "#                 else:\n",
    "#                     tree = gbtree_p\n",
    "#                 pred = tree.predict(X_test.values)\n",
    "#                 ground_truth = y_test.iloc[idx]\n",
    "#                 name = f\"{X_test.iloc[idx].name}_{pred[idx]}_truth{ground_truth}\"\n",
    "#                 sv = get_shap_explanation(tree, X_test, params, idx)\n",
    "#                 if any(obj.data == sv.data for obj in sv_list):\n",
    "#                     continue\n",
    "#                 else:\n",
    "#                     sv_list.append(sv)\n",
    "                    \n",
    "#                     plot_shap_explanation(sv, plot_type=plot_type, save=True, save_path=save_path, save_name=name)\n",
    "#                     plot_shap_explanation(sv, plot_type=plot_type, save=True, save_path=save_path, save_name=name,\n",
    "#                                          file_type=\"png\")"
   ]
  },
  {
   "cell_type": "code",
   "execution_count": null,
   "id": "79ed7762",
   "metadata": {},
   "outputs": [],
   "source": []
  }
 ],
 "metadata": {
  "kernelspec": {
   "display_name": "Python 3 (ipykernel)",
   "language": "python",
   "name": "python3"
  },
  "language_info": {
   "codemirror_mode": {
    "name": "ipython",
    "version": 3
   },
   "file_extension": ".py",
   "mimetype": "text/x-python",
   "name": "python",
   "nbconvert_exporter": "python",
   "pygments_lexer": "ipython3",
   "version": "3.10.6"
  }
 },
 "nbformat": 4,
 "nbformat_minor": 5
}
